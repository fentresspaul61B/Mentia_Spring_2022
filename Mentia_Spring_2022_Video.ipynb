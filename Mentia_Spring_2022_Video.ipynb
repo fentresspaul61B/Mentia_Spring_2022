{
  "nbformat": 4,
  "nbformat_minor": 0,
  "metadata": {
    "colab": {
      "name": "Mentia_Spring_2022_Video.ipynb",
      "provenance": [],
      "collapsed_sections": []
    },
    "kernelspec": {
      "name": "python3",
      "display_name": "Python 3"
    },
    "language_info": {
      "name": "python"
    }
  },
  "cells": [
    {
      "cell_type": "markdown",
      "source": [
        ""
      ],
      "metadata": {
        "id": "PDjdTXUALBy9"
      }
    },
    {
      "cell_type": "markdown",
      "source": [
        "# Connecting to Google Drive and Github\n",
        "In order to start the project I will connect the google colab notebook to Google Drive and Github. The reason I am choosing to start in Colab is because Colab makes it easy to share data and files, and we can accsess GPU when needed. The analysis can begin in colab and later move to python and a text editor when the model is ready.  "
      ],
      "metadata": {
        "id": "AtWRagbyLGmP"
      }
    },
    {
      "cell_type": "code",
      "source": [
        "\"\"\"\n",
        "This cell mounts your google account with google colab\n",
        "which can be used to accsess data from the shared google\n",
        "drive folders we create\n",
        "\"\"\"\n",
        "\n",
        "from google.colab import drive\n",
        "drive.mount('/content/drive')"
      ],
      "metadata": {
        "colab": {
          "base_uri": "https://localhost:8080/"
        },
        "id": "veNIXjvrKsWu",
        "outputId": "e7c1b03f-1d85-40db-c618-85a2003ecf63"
      },
      "execution_count": 2,
      "outputs": [
        {
          "output_type": "stream",
          "name": "stdout",
          "text": [
            "Drive already mounted at /content/drive; to attempt to forcibly remount, call drive.mount(\"/content/drive\", force_remount=True).\n"
          ]
        }
      ]
    },
    {
      "cell_type": "code",
      "source": [
        "%cd /content/drive/MyDrive"
      ],
      "metadata": {
        "colab": {
          "base_uri": "https://localhost:8080/"
        },
        "id": "FWIETD2zLzQK",
        "outputId": "ad1c614c-5b0a-4083-92e4-d812bc00aeb3"
      },
      "execution_count": 3,
      "outputs": [
        {
          "output_type": "stream",
          "name": "stdout",
          "text": [
            "/content/drive/MyDrive\n"
          ]
        }
      ]
    },
    {
      "cell_type": "code",
      "source": [
        "https://github.com/fentresspaul61B/Mentia_Spring_2022.git"
      ],
      "metadata": {
        "id": "RLvhw4biMOts"
      },
      "execution_count": null,
      "outputs": []
    },
    {
      "cell_type": "code",
      "source": [
        "!git init"
      ],
      "metadata": {
        "colab": {
          "base_uri": "https://localhost:8080/"
        },
        "id": "1uFR_s1jQ4oN",
        "outputId": "b62c0abc-4d40-4b75-e4fb-8f5010bc1edc"
      },
      "execution_count": 4,
      "outputs": [
        {
          "output_type": "stream",
          "name": "stdout",
          "text": [
            "Initialized empty Git repository in /content/drive/MyDrive/.git/\n"
          ]
        }
      ]
    },
    {
      "cell_type": "code",
      "source": [
        ""
      ],
      "metadata": {
        "id": "IvNzM0gcQ6RT"
      },
      "execution_count": null,
      "outputs": []
    }
  ]
}