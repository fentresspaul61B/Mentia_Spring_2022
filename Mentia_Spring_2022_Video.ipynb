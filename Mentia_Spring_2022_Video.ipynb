{
  "nbformat": 4,
  "nbformat_minor": 0,
  "metadata": {
    "colab": {
      "name": "Mentia_Spring_2022_Video.ipynb",
      "provenance": [],
      "collapsed_sections": [],
      "authorship_tag": "ABX9TyOe61fxGJmnxXRtsSxGNZoJ",
      "include_colab_link": true
    },
    "kernelspec": {
      "name": "python3",
      "display_name": "Python 3"
    },
    "language_info": {
      "name": "python"
    }
  },
  "cells": [
    {
      "cell_type": "markdown",
      "metadata": {
        "id": "view-in-github",
        "colab_type": "text"
      },
      "source": [
        "<a href=\"https://colab.research.google.com/github/fentresspaul61B/Mentia_Spring_2022/blob/main/Mentia_Spring_2022_Video.ipynb\" target=\"_parent\"><img src=\"https://colab.research.google.com/assets/colab-badge.svg\" alt=\"Open In Colab\"/></a>"
      ]
    },
    {
      "cell_type": "markdown",
      "source": [
        ""
      ],
      "metadata": {
        "id": "PDjdTXUALBy9"
      }
    },
    {
      "cell_type": "markdown",
      "source": [
        "# Connecting to Google Drive and Github\n",
        "In order to start the project I will connect the google colab notebook to Google Drive and Github. The reason I am choosing to start in Colab is because Colab makes it easy to share data and files, and we can accsess GPU when needed. The analysis can begin in colab and later move to python and a text editor when the model is ready.  "
      ],
      "metadata": {
        "id": "AtWRagbyLGmP"
      }
    },
    {
      "cell_type": "code",
      "source": [
        "\"\"\"\n",
        "This cell mounts your google account with google colab\n",
        "which can be used to accsess data from the shared google\n",
        "drive folders we create\n",
        "\"\"\"\n",
        "\n",
        "from google.colab import drive\n",
        "drive.mount('/content/drive')"
      ],
      "metadata": {
        "colab": {
          "base_uri": "https://localhost:8080/"
        },
        "id": "veNIXjvrKsWu",
        "outputId": "e7c1b03f-1d85-40db-c618-85a2003ecf63"
      },
      "execution_count": 2,
      "outputs": [
        {
          "output_type": "stream",
          "name": "stdout",
          "text": [
            "Drive already mounted at /content/drive; to attempt to forcibly remount, call drive.mount(\"/content/drive\", force_remount=True).\n"
          ]
        }
      ]
    },
    {
      "cell_type": "code",
      "source": [
        ""
      ],
      "metadata": {
        "colab": {
          "base_uri": "https://localhost:8080/"
        },
        "id": "1uFR_s1jQ4oN",
        "outputId": "00e5518a-f95e-4f8e-c713-55b95d881369"
      },
      "execution_count": 6,
      "outputs": [
        {
          "output_type": "stream",
          "name": "stdout",
          "text": [
            "^C\n"
          ]
        }
      ]
    },
    {
      "cell_type": "code",
      "source": [
        ""
      ],
      "metadata": {
        "id": "IvNzM0gcQ6RT"
      },
      "execution_count": null,
      "outputs": []
    }
  ]
}